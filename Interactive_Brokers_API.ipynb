{
 "cells": [
  {
   "cell_type": "code",
   "execution_count": 12,
   "metadata": {},
   "outputs": [],
   "source": [
    "#!pip install ibapi"
   ]
  },
  {
   "cell_type": "code",
   "execution_count": 13,
   "metadata": {},
   "outputs": [],
   "source": [
    "import time\n",
    "import threading\n",
    "from datetime import datetime\n",
    "from typing import Dict, Optional\n",
    "import pandas as pd\n",
    "import warnings"
   ]
  },
  {
   "cell_type": "code",
   "execution_count": 14,
   "metadata": {},
   "outputs": [],
   "source": [
    "from ibapi.client import EClient # makes calls \n",
    "from ibapi.wrapper import EWrapper #    receives responses\n",
    "from ibapi.contract import Contract # contract instrument       \n",
    "from ibapi.order import Order # order object\n",
    "from ibapi.common import BarData # historical data bars\n"
   ]
  },
  {
   "cell_type": "code",
   "execution_count": null,
   "metadata": {},
   "outputs": [],
   "source": [
    "#make a class that inherits from EClient and EWrapper\n",
    "class TradingApp (EClient, EWrapper):\n",
    "    def __init__(self):  \n",
    "        EClient.__init__(self, self)\n",
    "        self.data:Dict[int, pd.DataFrame] = {}\n",
    "\n",
    "    def error(self, reqId: int, errorcode: int, errorstring: str, advanced: any) -> None:\n",
    "        print(\"Error: \", reqId, \" \", errorcode, \" \", errorstring)\n",
    "\n",
    "    def get_historical_data(self, reqId: int, contract: Contract) -> pd.DataFrame:\n",
    "        self.data[reqId] = pd.DataFrame(columns=['time', 'high', 'low', 'close'])\n",
    "        self.data[reqId].set_index('time', inplace=True)\n",
    "        self.reqHistoricalData(\n",
    "            reqId = reqId,\n",
    "            contract = contract,\n",
    "            endDateTime='',\n",
    "            durationStr='1 D',\n",
    "            barSizeSetting='1 min',\n",
    "            whatToShow='MIDPOINT',\n",
    "            useRTH=0,\n",
    "            formatDate=2,\n",
    "            keepUpToDate=False,\n",
    "            chartOptions=[]\n",
    "        )\n",
    "        time.sleep(3)\n",
    "        return self.data[reqId]\n",
    "    \n",
    "    def historicalData(self, reqId: int, bar: BarData) -> None:\n",
    "        df = self.data[reqId]\n",
    "        df.loc[\n",
    "            pd.to_datetime(bar.date, unit = 's'),\n",
    "            ['high', 'low', 'close']\n",
    "        ] = [bar.high, bar.low, bar.close]\n",
    "        df = df.astype(float)\n",
    "        self.data[reqId] = df\n",
    "\n",
    "    @staticmethod\n",
    "    def get_stock_contract(symbol: str) -> Contract:\n",
    "        contract = Contract()\n",
    "        contract.symbol = symbol\n",
    "        contract.secType = 'STK'\n",
    "        contract.exchange = 'SMART'\n",
    "        contract.currency = 'USD'\n",
    "        return contract\n",
    "  "
   ]
  },
  {
   "cell_type": "code",
   "execution_count": 17,
   "metadata": {},
   "outputs": [],
   "source": [
    "app = TradingApp()"
   ]
  },
  {
   "cell_type": "code",
   "execution_count": null,
   "metadata": {},
   "outputs": [],
   "source": [
    "app.connect()"
   ]
  },
  {
   "cell_type": "code",
   "execution_count": null,
   "metadata": {},
   "outputs": [],
   "source": []
  }
 ],
 "metadata": {
  "kernelspec": {
   "display_name": "Python 3",
   "language": "python",
   "name": "python3"
  },
  "language_info": {
   "codemirror_mode": {
    "name": "ipython",
    "version": 3
   },
   "file_extension": ".py",
   "mimetype": "text/x-python",
   "name": "python",
   "nbconvert_exporter": "python",
   "pygments_lexer": "ipython3",
   "version": "3.12.8"
  }
 },
 "nbformat": 4,
 "nbformat_minor": 2
}
