{
 "cells": [
  {
   "cell_type": "code",
   "execution_count": 1,
   "metadata": {},
   "outputs": [],
   "source": [
    "import numpy as np  \n",
    "import yfinance as yf\n"
   ]
  },
  {
   "cell_type": "code",
   "execution_count": 3,
   "metadata": {},
   "outputs": [
    {
     "name": "stderr",
     "output_type": "stream",
     "text": [
      "[*********************100%***********************]  5 of 5 completed\n"
     ]
    }
   ],
   "source": [
    "prices = yf.download(['FDN', 'FTXL', 'FXD', 'FXR', 'HDEF'], start = '2020-01-01')"
   ]
  },
  {
   "cell_type": "code",
   "execution_count": 8,
   "metadata": {},
   "outputs": [
    {
     "data": {
      "text/html": [
       "<div>\n",
       "<style scoped>\n",
       "    .dataframe tbody tr th:only-of-type {\n",
       "        vertical-align: middle;\n",
       "    }\n",
       "\n",
       "    .dataframe tbody tr th {\n",
       "        vertical-align: top;\n",
       "    }\n",
       "\n",
       "    .dataframe thead th {\n",
       "        text-align: right;\n",
       "    }\n",
       "</style>\n",
       "<table border=\"1\" class=\"dataframe\">\n",
       "  <thead>\n",
       "    <tr style=\"text-align: right;\">\n",
       "      <th>Ticker</th>\n",
       "      <th>FDN</th>\n",
       "      <th>FTXL</th>\n",
       "      <th>FXD</th>\n",
       "      <th>FXR</th>\n",
       "      <th>HDEF</th>\n",
       "    </tr>\n",
       "    <tr>\n",
       "      <th>Date</th>\n",
       "      <th></th>\n",
       "      <th></th>\n",
       "      <th></th>\n",
       "      <th></th>\n",
       "      <th></th>\n",
       "    </tr>\n",
       "  </thead>\n",
       "  <tbody>\n",
       "    <tr>\n",
       "      <th>2020-01-03</th>\n",
       "      <td>-0.007991</td>\n",
       "      <td>-0.010339</td>\n",
       "      <td>-0.005939</td>\n",
       "      <td>-0.002847</td>\n",
       "      <td>-0.011240</td>\n",
       "    </tr>\n",
       "    <tr>\n",
       "      <th>2020-01-06</th>\n",
       "      <td>0.013901</td>\n",
       "      <td>-0.018457</td>\n",
       "      <td>0.001992</td>\n",
       "      <td>-0.003295</td>\n",
       "      <td>0.001218</td>\n",
       "    </tr>\n",
       "    <tr>\n",
       "      <th>2020-01-07</th>\n",
       "      <td>0.000844</td>\n",
       "      <td>0.021336</td>\n",
       "      <td>-0.001546</td>\n",
       "      <td>0.000661</td>\n",
       "      <td>-0.003852</td>\n",
       "    </tr>\n",
       "    <tr>\n",
       "      <th>2020-01-08</th>\n",
       "      <td>0.008992</td>\n",
       "      <td>0.000602</td>\n",
       "      <td>0.003539</td>\n",
       "      <td>0.001321</td>\n",
       "      <td>0.001995</td>\n",
       "    </tr>\n",
       "    <tr>\n",
       "      <th>2020-01-09</th>\n",
       "      <td>0.007728</td>\n",
       "      <td>0.008779</td>\n",
       "      <td>-0.006172</td>\n",
       "      <td>0.003958</td>\n",
       "      <td>-0.000975</td>\n",
       "    </tr>\n",
       "    <tr>\n",
       "      <th>...</th>\n",
       "      <td>...</td>\n",
       "      <td>...</td>\n",
       "      <td>...</td>\n",
       "      <td>...</td>\n",
       "      <td>...</td>\n",
       "    </tr>\n",
       "    <tr>\n",
       "      <th>2024-12-20</th>\n",
       "      <td>0.012295</td>\n",
       "      <td>0.019251</td>\n",
       "      <td>0.015494</td>\n",
       "      <td>0.008408</td>\n",
       "      <td>0.002753</td>\n",
       "    </tr>\n",
       "    <tr>\n",
       "      <th>2024-12-23</th>\n",
       "      <td>0.000802</td>\n",
       "      <td>0.026671</td>\n",
       "      <td>-0.001831</td>\n",
       "      <td>-0.000662</td>\n",
       "      <td>0.004992</td>\n",
       "    </tr>\n",
       "    <tr>\n",
       "      <th>2024-12-24</th>\n",
       "      <td>0.010013</td>\n",
       "      <td>0.007470</td>\n",
       "      <td>0.009477</td>\n",
       "      <td>0.007416</td>\n",
       "      <td>0.002897</td>\n",
       "    </tr>\n",
       "    <tr>\n",
       "      <th>2024-12-26</th>\n",
       "      <td>-0.003212</td>\n",
       "      <td>0.005755</td>\n",
       "      <td>0.002574</td>\n",
       "      <td>0.003812</td>\n",
       "      <td>0.004540</td>\n",
       "    </tr>\n",
       "    <tr>\n",
       "      <th>2024-12-27</th>\n",
       "      <td>-0.012810</td>\n",
       "      <td>-0.014745</td>\n",
       "      <td>-0.009364</td>\n",
       "      <td>-0.010739</td>\n",
       "      <td>-0.001643</td>\n",
       "    </tr>\n",
       "  </tbody>\n",
       "</table>\n",
       "<p>1255 rows × 5 columns</p>\n",
       "</div>"
      ],
      "text/plain": [
       "Ticker           FDN      FTXL       FXD       FXR      HDEF\n",
       "Date                                                        \n",
       "2020-01-03 -0.007991 -0.010339 -0.005939 -0.002847 -0.011240\n",
       "2020-01-06  0.013901 -0.018457  0.001992 -0.003295  0.001218\n",
       "2020-01-07  0.000844  0.021336 -0.001546  0.000661 -0.003852\n",
       "2020-01-08  0.008992  0.000602  0.003539  0.001321  0.001995\n",
       "2020-01-09  0.007728  0.008779 -0.006172  0.003958 -0.000975\n",
       "...              ...       ...       ...       ...       ...\n",
       "2024-12-20  0.012295  0.019251  0.015494  0.008408  0.002753\n",
       "2024-12-23  0.000802  0.026671 -0.001831 -0.000662  0.004992\n",
       "2024-12-24  0.010013  0.007470  0.009477  0.007416  0.002897\n",
       "2024-12-26 -0.003212  0.005755  0.002574  0.003812  0.004540\n",
       "2024-12-27 -0.012810 -0.014745 -0.009364 -0.010739 -0.001643\n",
       "\n",
       "[1255 rows x 5 columns]"
      ]
     },
     "execution_count": 8,
     "metadata": {},
     "output_type": "execute_result"
    }
   ],
   "source": [
    "returns = (\n",
    "    prices['Close'].pct_change().dropna()\n",
    ")\n",
    "returns"
   ]
  },
  {
   "cell_type": "code",
   "execution_count": 10,
   "metadata": {},
   "outputs": [],
   "source": [
    "expected_returns = returns.mean()"
   ]
  },
  {
   "cell_type": "code",
   "execution_count": 9,
   "metadata": {},
   "outputs": [],
   "source": [
    "cov_matrix = returns.cov()"
   ]
  },
  {
   "cell_type": "code",
   "execution_count": 11,
   "metadata": {},
   "outputs": [
    {
     "data": {
      "text/html": [
       "<div>\n",
       "<style scoped>\n",
       "    .dataframe tbody tr th:only-of-type {\n",
       "        vertical-align: middle;\n",
       "    }\n",
       "\n",
       "    .dataframe tbody tr th {\n",
       "        vertical-align: top;\n",
       "    }\n",
       "\n",
       "    .dataframe thead th {\n",
       "        text-align: right;\n",
       "    }\n",
       "</style>\n",
       "<table border=\"1\" class=\"dataframe\">\n",
       "  <thead>\n",
       "    <tr style=\"text-align: right;\">\n",
       "      <th>Ticker</th>\n",
       "      <th>FDN</th>\n",
       "      <th>FTXL</th>\n",
       "      <th>FXD</th>\n",
       "      <th>FXR</th>\n",
       "      <th>HDEF</th>\n",
       "    </tr>\n",
       "    <tr>\n",
       "      <th>Ticker</th>\n",
       "      <th></th>\n",
       "      <th></th>\n",
       "      <th></th>\n",
       "      <th></th>\n",
       "      <th></th>\n",
       "    </tr>\n",
       "  </thead>\n",
       "  <tbody>\n",
       "    <tr>\n",
       "      <th>FDN</th>\n",
       "      <td>0.000354</td>\n",
       "      <td>0.000335</td>\n",
       "      <td>0.000245</td>\n",
       "      <td>0.000200</td>\n",
       "      <td>0.000126</td>\n",
       "    </tr>\n",
       "    <tr>\n",
       "      <th>FTXL</th>\n",
       "      <td>0.000335</td>\n",
       "      <td>0.000544</td>\n",
       "      <td>0.000296</td>\n",
       "      <td>0.000268</td>\n",
       "      <td>0.000173</td>\n",
       "    </tr>\n",
       "    <tr>\n",
       "      <th>FXD</th>\n",
       "      <td>0.000245</td>\n",
       "      <td>0.000296</td>\n",
       "      <td>0.000324</td>\n",
       "      <td>0.000262</td>\n",
       "      <td>0.000162</td>\n",
       "    </tr>\n",
       "    <tr>\n",
       "      <th>FXR</th>\n",
       "      <td>0.000200</td>\n",
       "      <td>0.000268</td>\n",
       "      <td>0.000262</td>\n",
       "      <td>0.000253</td>\n",
       "      <td>0.000153</td>\n",
       "    </tr>\n",
       "    <tr>\n",
       "      <th>HDEF</th>\n",
       "      <td>0.000126</td>\n",
       "      <td>0.000173</td>\n",
       "      <td>0.000162</td>\n",
       "      <td>0.000153</td>\n",
       "      <td>0.000142</td>\n",
       "    </tr>\n",
       "  </tbody>\n",
       "</table>\n",
       "</div>"
      ],
      "text/plain": [
       "Ticker       FDN      FTXL       FXD       FXR      HDEF\n",
       "Ticker                                                  \n",
       "FDN     0.000354  0.000335  0.000245  0.000200  0.000126\n",
       "FTXL    0.000335  0.000544  0.000296  0.000268  0.000173\n",
       "FXD     0.000245  0.000296  0.000324  0.000262  0.000162\n",
       "FXR     0.000200  0.000268  0.000262  0.000253  0.000153\n",
       "HDEF    0.000126  0.000173  0.000162  0.000153  0.000142"
      ]
     },
     "execution_count": 11,
     "metadata": {},
     "output_type": "execute_result"
    }
   ],
   "source": [
    "cov_matrix"
   ]
  },
  {
   "cell_type": "code",
   "execution_count": 12,
   "metadata": {},
   "outputs": [],
   "source": [
    "weights = np.array([0.2, 0.2, 0.2, 0.2, 0.2])"
   ]
  },
  {
   "cell_type": "code",
   "execution_count": 15,
   "metadata": {},
   "outputs": [
    {
     "data": {
      "text/plain": [
       "np.float64(0.00024237754301420465)"
      ]
     },
     "execution_count": 15,
     "metadata": {},
     "output_type": "execute_result"
    }
   ],
   "source": [
    "portfolio_variance = np.dot(weights.T, np.dot(cov_matrix, weights))\n",
    "portfolio_variance"
   ]
  },
  {
   "cell_type": "code",
   "execution_count": 16,
   "metadata": {},
   "outputs": [
    {
     "data": {
      "text/plain": [
       "np.float64(0.24714194471918274)"
      ]
     },
     "execution_count": 16,
     "metadata": {},
     "output_type": "execute_result"
    }
   ],
   "source": [
    "portfolio_stddev = np.sqrt(portfolio_variance) * np.sqrt(252)\n",
    "portfolio_stddev"
   ]
  },
  {
   "cell_type": "code",
   "execution_count": null,
   "metadata": {},
   "outputs": [],
   "source": []
  }
 ],
 "metadata": {
  "kernelspec": {
   "display_name": "Python 3",
   "language": "python",
   "name": "python3"
  },
  "language_info": {
   "codemirror_mode": {
    "name": "ipython",
    "version": 3
   },
   "file_extension": ".py",
   "mimetype": "text/x-python",
   "name": "python",
   "nbconvert_exporter": "python",
   "pygments_lexer": "ipython3",
   "version": "3.12.8"
  }
 },
 "nbformat": 4,
 "nbformat_minor": 2
}
